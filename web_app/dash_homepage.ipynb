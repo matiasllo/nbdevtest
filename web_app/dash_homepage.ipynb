{
 "cells": [
  {
   "cell_type": "code",
   "execution_count": 6,
   "metadata": {},
   "outputs": [],
   "source": [
    "#default_exp core"
   ]
  },
  {
   "cell_type": "code",
   "execution_count": 1,
   "metadata": {},
   "outputs": [
    {
     "name": "stdout",
     "output_type": "stream",
     "text": [
      " * Serving Flask app \"__main__\" (lazy loading)\n",
      " * Environment: production\n",
      "   WARNING: This is a development server. Do not use it in a production deployment.\n",
      "   Use a production WSGI server instead.\n",
      " * Debug mode: off\n"
     ]
    },
    {
     "name": "stderr",
     "output_type": "stream",
     "text": [
      " * Running on http://127.0.0.1:8050/ (Press CTRL+C to quit)\n"
     ]
    }
   ],
   "source": [
    "#export \n",
    "import dash\n",
    "import dash_bootstrap_components as dbc\n",
    "import dash_core_components as dcc\n",
    "import dash_html_components as html\n",
    "\n",
    "from navbar import Navbar\n",
    "nav = Navbar()\n",
    "\n",
    "body = dbc.Container(\n",
    "    [\n",
    "       dbc.Row(\n",
    "           [\n",
    "               dbc.Col(\n",
    "                  [\n",
    "                     html.H2(\"Heading\"),\n",
    "                     html.P(\n",
    "                         \"\"\"\\\n",
    "Donec id elit non mi porta gravida at eget metus.Fusce dapibus, tellus ac cursus commodo, tortor mauris condimentumnibh, ut fermentum massa justo sit amet risus. Etiam porta semmalesuada magna mollis euismod. Donec sed odio dui. Donec id elit nonmi porta gravida at eget metus. Fusce dapibus, tellus ac cursuscommodo, tortor mauris condimentum nibh, ut fermentum massa justo sitamet risus. Etiam porta sem malesuada magna mollis euismod. Donec sedodio dui.\"\"\"\n",
    "                           ),\n",
    "                           dbc.Button(\"View details\", color=\"secondary\"),\n",
    "                   ],\n",
    "                  md=4,\n",
    "               ),\n",
    "              dbc.Col(\n",
    "                 [\n",
    "                     html.H2(\"Graph\"),\n",
    "                     dcc.Graph(\n",
    "                         figure={\"data\": [{\"x\": [1, 2, 3], \"y\": [1, 4, 9]}]}\n",
    "                            ),\n",
    "                        ]\n",
    "                     ),\n",
    "                ]\n",
    "            )\n",
    "       ],\n",
    "className=\"mt-4\",\n",
    ")\n",
    "\n",
    "def Homepage():\n",
    "    layout = html.Div([\n",
    "    nav,\n",
    "    body\n",
    "    ])\n",
    "    return layout\n",
    "\n",
    "app = dash.Dash(__name__, external_stylesheets = [dbc.themes.UNITED])\n",
    "app.layout = Homepage()\n",
    "if __name__ == \"__main__\":\n",
    "    app.run_server()\n",
    "\n",
    "    \n"
   ]
  },
  {
   "cell_type": "code",
   "execution_count": 8,
   "metadata": {},
   "outputs": [
    {
     "name": "stdout",
     "output_type": "stream",
     "text": [
      "Converted 00_core.ipynb.\n",
      "Converted index.ipynb.\n"
     ]
    }
   ],
   "source": [
    "from nbdev.export import *\n",
    "notebook2script()"
   ]
  },
  {
   "cell_type": "code",
   "execution_count": null,
   "metadata": {},
   "outputs": [],
   "source": []
  }
 ],
 "metadata": {
  "kernelspec": {
   "display_name": "Python 3",
   "language": "python",
   "name": "python3"
  },
  "language_info": {
   "codemirror_mode": {
    "name": "ipython",
    "version": 3
   },
   "file_extension": ".py",
   "mimetype": "text/x-python",
   "name": "python",
   "nbconvert_exporter": "python",
   "pygments_lexer": "ipython3",
   "version": "3.7.4"
  }
 },
 "nbformat": 4,
 "nbformat_minor": 4
}
